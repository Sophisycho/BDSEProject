{
 "cells": [
  {
   "cell_type": "code",
   "execution_count": 2,
   "metadata": {},
   "outputs": [
    {
     "name": "stdout",
     "output_type": "stream",
     "text": [
      "['受有...之傷害', '因果關係', '傷害故意', '犯後態度', '肢體多處挫傷', '手肘撕裂傷', '高中畢業之智識程度', '需扶養一名子女', '坦承犯行']\n"
     ]
    }
   ],
   "source": [
    "# 判決內容分詞之後，變成一個list\n",
    "JiebaContent = [\"受有...之傷害\", \"致\", \"基於傷害之犯意\", \"未能與告訴人達成和解\",\"肢體多處挫傷\",\"手肘撕裂傷\",\"高中畢業之智識程度\",\"需扶養一名子女\",\"坦承犯行\"]\n",
    "\n",
    "# 把內容替換成欄位對應的關鍵字\n",
    "\n",
    "for i in range(len(JiebaContent)):\n",
    "    # 取代「致」為「因果關係」\n",
    "    if JiebaContent[i] == '致':\n",
    "        JiebaContent[i] = '因果關係'\n",
    "\n",
    "    # 取代「基於傷害之犯意」為「傷害故意」\n",
    "    if JiebaContent[i] == '基於傷害之犯意':\n",
    "        JiebaContent[i] = '傷害故意'\n",
    "    \n",
    "    if JiebaContent[i] == '未能與告訴人達成和解':\n",
    "        JiebaContent[i] = '犯後態度'\n",
    "\n",
    "# print list\n",
    "print(JiebaContent)"
   ]
  },
  {
   "cell_type": "code",
   "execution_count": 5,
   "metadata": {},
   "outputs": [
    {
     "ename": "AttributeError",
     "evalue": "'str' object has no attribute 'insert'",
     "output_type": "error",
     "traceback": [
      "\u001b[1;31m---------------------------------------------------------------------------\u001b[0m",
      "\u001b[1;31mAttributeError\u001b[0m                            Traceback (most recent call last)",
      "Cell \u001b[1;32mIn [5], line 5\u001b[0m\n\u001b[0;32m      3\u001b[0m \u001b[39mfor\u001b[39;00m j \u001b[39min\u001b[39;00m \u001b[39mrange\u001b[39m(\u001b[39mlen\u001b[39m(JiebaContent)):\n\u001b[0;32m      4\u001b[0m     \u001b[39mif\u001b[39;00m JiebaContent[j] \u001b[39m==\u001b[39m \u001b[39m'\u001b[39m\u001b[39m因果關係\u001b[39m\u001b[39m'\u001b[39m:\n\u001b[1;32m----> 5\u001b[0m         JiebaContent[j]\u001b[39m.\u001b[39;49minsert(\u001b[39m1\u001b[39m)\n\u001b[0;32m      6\u001b[0m \u001b[39mprint\u001b[39m(JiebaContent)\n",
      "\u001b[1;31mAttributeError\u001b[0m: 'str' object has no attribute 'insert'"
     ]
    }
   ],
   "source": [
    "# list的關鍵字加入對應的值\n",
    "keyvalus = []\n",
    "for j in range(len(JiebaContent)):\n",
    "    if JiebaContent[j] == '因果關係':\n",
    "        JiebaContent[j].insert(1)\n",
    "print(JiebaContent)\n",
    "\n",
    "\n",
    "# afternoon_tea = [['Muffin', 39], ['Scone', 25], ['Biscuit', 20]]"
   ]
  },
  {
   "cell_type": "code",
   "execution_count": 6,
   "metadata": {},
   "outputs": [],
   "source": [
    "import json\n",
    "\n",
    "# Python 的 dict 類型資料\n",
    "myDict = {\n",
    "    \"傷害結果\": 1,\n",
    "    \"因果關係\": 1,\n",
    "    \"傷害故意\": 1,\n",
    "    \"違法性\": 1,\n",
    "    \"罪責\": 1,\n",
    "    \"加重條件\": 0.5,\n",
    "    \"減輕條件\": 0.5,\n",
    "    \"其他條件\": 0.5,\n",
    "    \"判決結果\": 3,\n",
    "}\n",
    "\n",
    "# 將 Python 資料轉為 JSON 格式，儲存至 output.json 檔案，indent = 4 開出來的格式比較容易閱讀，開一個json檔變數叫file\n",
    "with open(\"output.json\", \"w\",encoding = \"utf-8\") as file:\n",
    "    json.dump(myDict, file, indent = 4,ensure_ascii = False)"
   ]
  }
 ],
 "metadata": {
  "kernelspec": {
   "display_name": "Python 3.10.7 64-bit",
   "language": "python",
   "name": "python3"
  },
  "language_info": {
   "codemirror_mode": {
    "name": "ipython",
    "version": 3
   },
   "file_extension": ".py",
   "mimetype": "text/x-python",
   "name": "python",
   "nbconvert_exporter": "python",
   "pygments_lexer": "ipython3",
   "version": "3.10.7"
  },
  "orig_nbformat": 4,
  "vscode": {
   "interpreter": {
    "hash": "26de051ba29f2982a8de78e945f0abaf191376122a1563185a90213a26c5da77"
   }
  }
 },
 "nbformat": 4,
 "nbformat_minor": 2
}
