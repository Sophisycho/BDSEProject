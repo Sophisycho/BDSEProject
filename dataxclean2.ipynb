{
 "cells": [
  {
   "cell_type": "code",
   "execution_count": 96,
   "metadata": {},
   "outputs": [],
   "source": [
    "import numpy as np"
   ]
  },
  {
   "cell_type": "code",
   "execution_count": 1,
   "metadata": {},
   "outputs": [],
   "source": [
    "import pandas as pd\n",
    "\n",
    "data = pd.read_csv('C:/Users/Zong Ying/Desktop/datajudge.csv')\n",
    "\n",
    "# 這個data是已經把原始資料去掉裁定，且split理由，並加到後面兩欄"
   ]
  },
  {
   "cell_type": "code",
   "execution_count": 2,
   "metadata": {},
   "outputs": [
    {
     "name": "stdout",
     "output_type": "stream",
     "text": [
      "<class 'pandas.core.frame.DataFrame'>\n",
      "RangeIndex: 192052 entries, 0 to 192051\n",
      "Data columns (total 11 columns):\n",
      " #   Column         Non-Null Count   Dtype \n",
      "---  ------         --------------   ----- \n",
      " 0   Unnamed: 0     192052 non-null  int64 \n",
      " 1   judge_court    192052 non-null  object\n",
      " 2   judge_year     192052 non-null  int64 \n",
      " 3   judge_month    192052 non-null  int64 \n",
      " 4   judge_index    192052 non-null  int64 \n",
      " 5   judge_title    192052 non-null  object\n",
      " 6   judge_NO       192052 non-null  object\n",
      " 7   judge_link     192052 non-null  object\n",
      " 8   judge_content  192052 non-null  object\n",
      " 9   main           192052 non-null  object\n",
      " 10  left           191557 non-null  object\n",
      "dtypes: int64(4), object(7)\n",
      "memory usage: 16.1+ MB\n"
     ]
    }
   ],
   "source": [
    "data.info()"
   ]
  },
  {
   "cell_type": "code",
   "execution_count": 3,
   "metadata": {},
   "outputs": [
    {
     "data": {
      "text/html": [
       "<div>\n",
       "<style scoped>\n",
       "    .dataframe tbody tr th:only-of-type {\n",
       "        vertical-align: middle;\n",
       "    }\n",
       "\n",
       "    .dataframe tbody tr th {\n",
       "        vertical-align: top;\n",
       "    }\n",
       "\n",
       "    .dataframe thead th {\n",
       "        text-align: right;\n",
       "    }\n",
       "</style>\n",
       "<table border=\"1\" class=\"dataframe\">\n",
       "  <thead>\n",
       "    <tr style=\"text-align: right;\">\n",
       "      <th></th>\n",
       "      <th>Unnamed: 0</th>\n",
       "      <th>judge_court</th>\n",
       "      <th>judge_year</th>\n",
       "      <th>judge_month</th>\n",
       "      <th>judge_index</th>\n",
       "      <th>judge_title</th>\n",
       "      <th>judge_NO</th>\n",
       "      <th>judge_link</th>\n",
       "      <th>judge_content</th>\n",
       "      <th>main</th>\n",
       "      <th>left</th>\n",
       "    </tr>\n",
       "  </thead>\n",
       "  <tbody>\n",
       "    <tr>\n",
       "      <th>0</th>\n",
       "      <td>0</td>\n",
       "      <td>臺灣彰化地方法院</td>\n",
       "      <td>111</td>\n",
       "      <td>1</td>\n",
       "      <td>1</td>\n",
       "      <td>過失傷害</td>\n",
       "      <td>臺灣彰化地方法院 111 年度 交易 字第 132 號刑事判決</td>\n",
       "      <td>https://judgment.judicial.gov.tw/FJUD/data.asp...</td>\n",
       "      <td>主文:本件公訴不受理。理由一、公訴意旨略以：被告蔡宗翰於民國110年2月5日19時31分許，...</td>\n",
       "      <td>主文:本件公訴不受理。</td>\n",
       "      <td>一、公訴意旨略以：被告蔡宗翰於民國110年2月5日19時31分許，駕駛車牌號碼000-000...</td>\n",
       "    </tr>\n",
       "    <tr>\n",
       "      <th>1</th>\n",
       "      <td>1</td>\n",
       "      <td>臺灣彰化地方法院</td>\n",
       "      <td>111</td>\n",
       "      <td>1</td>\n",
       "      <td>2</td>\n",
       "      <td>過失傷害</td>\n",
       "      <td>臺灣彰化地方法院 111 年度 交易 字第 116 號刑事判決</td>\n",
       "      <td>https://judgment.judicial.gov.tw/FJUD/data.asp...</td>\n",
       "      <td>主文:本件公訴不受理。理由一、聲請簡易判決處刑意旨略以：被告江宗杰於民國109年9月28日下...</td>\n",
       "      <td>主文:本件公訴不受理。</td>\n",
       "      <td>一、聲請簡易判決處刑意旨略以：被告江宗杰於民國109年9月28日下午6時55分前某時許，駕駛...</td>\n",
       "    </tr>\n",
       "    <tr>\n",
       "      <th>2</th>\n",
       "      <td>2</td>\n",
       "      <td>臺灣彰化地方法院</td>\n",
       "      <td>111</td>\n",
       "      <td>1</td>\n",
       "      <td>3</td>\n",
       "      <td>過失傷害</td>\n",
       "      <td>臺灣彰化地方法院 111 年度 交易 字第 32 號刑事判決</td>\n",
       "      <td>https://judgment.judicial.gov.tw/FJUD/data.asp...</td>\n",
       "      <td>主文:本件公訴不受理。理由一、公訴意旨略以：被告蔡永昌於民國109年12月15日9時40分許...</td>\n",
       "      <td>主文:本件公訴不受理。</td>\n",
       "      <td>一、公訴意旨略以：被告蔡永昌於民國109年12月15日9時40分許，駕駛車牌號碼000-00...</td>\n",
       "    </tr>\n",
       "    <tr>\n",
       "      <th>3</th>\n",
       "      <td>3</td>\n",
       "      <td>臺灣彰化地方法院</td>\n",
       "      <td>111</td>\n",
       "      <td>1</td>\n",
       "      <td>4</td>\n",
       "      <td>過失傷害</td>\n",
       "      <td>臺灣彰化地方法院 111 年度 交簡 字第 195 號刑事判決</td>\n",
       "      <td>https://judgment.judicial.gov.tw/FJUD/data.asp...</td>\n",
       "      <td>主文:林燕輝犯汽車駕駛人無駕駛執照駕車過失傷害罪，處拘役參拾伍日，如易科罰金，以新臺幣壹仟元...</td>\n",
       "      <td>主文:林燕輝犯汽車駕駛人無駕駛執照駕車過失傷害罪，處拘役參拾伍日，如易科罰金，以新臺幣壹仟元...</td>\n",
       "      <td>一、本案犯罪事實、證據，除犯罪事實欄一應補充「林燕輝所考領之自用小客車駕駛執照已易處逕註」之...</td>\n",
       "    </tr>\n",
       "    <tr>\n",
       "      <th>4</th>\n",
       "      <td>4</td>\n",
       "      <td>臺灣彰化地方法院</td>\n",
       "      <td>111</td>\n",
       "      <td>1</td>\n",
       "      <td>5</td>\n",
       "      <td>過失傷害</td>\n",
       "      <td>臺灣彰化地方法院 111 年度 交易 字第 109 號刑事判決</td>\n",
       "      <td>https://judgment.judicial.gov.tw/FJUD/data.asp...</td>\n",
       "      <td>主文:本件公訴不受理。理由一、公訴意旨略稱：被告劉文彬、許計文任職址設彰化縣○○市○○路00...</td>\n",
       "      <td>主文:本件公訴不受理。</td>\n",
       "      <td>一、公訴意旨略稱：被告劉文彬、許計文任職址設彰化縣○○市○○路00號之三興營造工程有限公司（...</td>\n",
       "    </tr>\n",
       "  </tbody>\n",
       "</table>\n",
       "</div>"
      ],
      "text/plain": [
       "   Unnamed: 0 judge_court  judge_year  judge_month  judge_index judge_title  \\\n",
       "0           0    臺灣彰化地方法院         111            1            1        過失傷害   \n",
       "1           1    臺灣彰化地方法院         111            1            2        過失傷害   \n",
       "2           2    臺灣彰化地方法院         111            1            3        過失傷害   \n",
       "3           3    臺灣彰化地方法院         111            1            4        過失傷害   \n",
       "4           4    臺灣彰化地方法院         111            1            5        過失傷害   \n",
       "\n",
       "                          judge_NO  \\\n",
       "0  臺灣彰化地方法院 111 年度 交易 字第 132 號刑事判決   \n",
       "1  臺灣彰化地方法院 111 年度 交易 字第 116 號刑事判決   \n",
       "2   臺灣彰化地方法院 111 年度 交易 字第 32 號刑事判決   \n",
       "3  臺灣彰化地方法院 111 年度 交簡 字第 195 號刑事判決   \n",
       "4  臺灣彰化地方法院 111 年度 交易 字第 109 號刑事判決   \n",
       "\n",
       "                                          judge_link  \\\n",
       "0  https://judgment.judicial.gov.tw/FJUD/data.asp...   \n",
       "1  https://judgment.judicial.gov.tw/FJUD/data.asp...   \n",
       "2  https://judgment.judicial.gov.tw/FJUD/data.asp...   \n",
       "3  https://judgment.judicial.gov.tw/FJUD/data.asp...   \n",
       "4  https://judgment.judicial.gov.tw/FJUD/data.asp...   \n",
       "\n",
       "                                       judge_content  \\\n",
       "0  主文:本件公訴不受理。理由一、公訴意旨略以：被告蔡宗翰於民國110年2月5日19時31分許，...   \n",
       "1  主文:本件公訴不受理。理由一、聲請簡易判決處刑意旨略以：被告江宗杰於民國109年9月28日下...   \n",
       "2  主文:本件公訴不受理。理由一、公訴意旨略以：被告蔡永昌於民國109年12月15日9時40分許...   \n",
       "3  主文:林燕輝犯汽車駕駛人無駕駛執照駕車過失傷害罪，處拘役參拾伍日，如易科罰金，以新臺幣壹仟元...   \n",
       "4  主文:本件公訴不受理。理由一、公訴意旨略稱：被告劉文彬、許計文任職址設彰化縣○○市○○路00...   \n",
       "\n",
       "                                                main  \\\n",
       "0                                        主文:本件公訴不受理。   \n",
       "1                                        主文:本件公訴不受理。   \n",
       "2                                        主文:本件公訴不受理。   \n",
       "3  主文:林燕輝犯汽車駕駛人無駕駛執照駕車過失傷害罪，處拘役參拾伍日，如易科罰金，以新臺幣壹仟元...   \n",
       "4                                        主文:本件公訴不受理。   \n",
       "\n",
       "                                                left  \n",
       "0  一、公訴意旨略以：被告蔡宗翰於民國110年2月5日19時31分許，駕駛車牌號碼000-000...  \n",
       "1  一、聲請簡易判決處刑意旨略以：被告江宗杰於民國109年9月28日下午6時55分前某時許，駕駛...  \n",
       "2  一、公訴意旨略以：被告蔡永昌於民國109年12月15日9時40分許，駕駛車牌號碼000-00...  \n",
       "3  一、本案犯罪事實、證據，除犯罪事實欄一應補充「林燕輝所考領之自用小客車駕駛執照已易處逕註」之...  \n",
       "4  一、公訴意旨略稱：被告劉文彬、許計文任職址設彰化縣○○市○○路00號之三興營造工程有限公司（...  "
      ]
     },
     "execution_count": 3,
     "metadata": {},
     "output_type": "execute_result"
    }
   ],
   "source": [
    "data.head()"
   ]
  },
  {
   "cell_type": "code",
   "execution_count": 5,
   "metadata": {},
   "outputs": [],
   "source": [
    "court = data.judge_court\n",
    "year = data.judge_year\n",
    "month = data.judge_month\n",
    "index = data.judge_index\n",
    "title = data.judge_title\n",
    "No = data.judge_NO\n",
    "link = data.judge_link\n",
    "content = data.judge_content\n",
    "main = data.main\n",
    "left = data.left\n"
   ]
  },
  {
   "cell_type": "code",
   "execution_count": 6,
   "metadata": {},
   "outputs": [
    {
     "data": {
      "text/plain": [
       "84303    主文:本件公訴不受理。理由一、公訴意旨略以：被告紀綉汝於民國109年10月6日上午，騎乘車牌...\n",
       "15778    主文:本件公訴不受理。理由一、公訴意旨如附件檢察官起訴書之記載。二、按告訴乃論之罪，告訴人於...\n",
       "23846    主文:林銘輝犯過失傷害罪，處有期徒刑貳月，如易科罰金，以新臺幣壹仟元折算壹日。犯罪事實一、林...\n",
       "89515    主文:簡翊昇犯過失傷害罪，處有期徒刑貳月，如易科罰金，以新臺幣壹仟元折算壹日。犯罪事實及理由...\n",
       "81665    主文:本件公訴不受理。理由一、公訴意旨略以：被告陳冠良於民國109年10月29日上午11時2...\n",
       "Name: judge_content, dtype: object"
      ]
     },
     "execution_count": 6,
     "metadata": {},
     "output_type": "execute_result"
    }
   ],
   "source": [
    "content.sample(n = 5,random_state = 0)"
   ]
  },
  {
   "cell_type": "code",
   "execution_count": 11,
   "metadata": {},
   "outputs": [],
   "source": [
    "mask_real_opp = ~data['main'].str.contains('處罰金|處拘役|處有期|無罪')\n",
    "\n",
    "# 不含處罰金處拘役處有期的，也就是內容都是公訴不受理或是其他"
   ]
  },
  {
   "cell_type": "code",
   "execution_count": 29,
   "metadata": {},
   "outputs": [
    {
     "data": {
      "text/plain": [
       "52343     主文:本件公訴不受理。\n",
       "35558     主文:本件公訴不受理。\n",
       "145541    主文:本件公訴不受理。\n",
       "39758     主文:本件公訴不受理。\n",
       "106297    主文:本件公訴不受理。\n",
       "92291     主文:本件公訴不受理。\n",
       "133132    主文:本件公訴不受理。\n",
       "179690    主文:本件公訴不受理。\n",
       "77206     主文:本件公訴不受理。\n",
       "84628     主文:本件公訴不受理。\n",
       "Name: main, dtype: object"
      ]
     },
     "execution_count": 29,
     "metadata": {},
     "output_type": "execute_result"
    }
   ],
   "source": [
    "data[mask_real_opp].main.sample(n = 10, random_state = 42)\n",
    "\n",
    "# 用隨機抽樣的方式確認結果是否正確"
   ]
  },
  {
   "cell_type": "code",
   "execution_count": 30,
   "metadata": {},
   "outputs": [],
   "source": [
    "mask_real = data['main'].str.contains('處罰金|處拘役|處有期|無罪')"
   ]
  },
  {
   "cell_type": "code",
   "execution_count": 31,
   "metadata": {},
   "outputs": [
    {
     "name": "stdout",
     "output_type": "stream",
     "text": [
      "<class 'pandas.core.frame.DataFrame'>\n",
      "Int64Index: 89532 entries, 3 to 192051\n",
      "Data columns (total 11 columns):\n",
      " #   Column         Non-Null Count  Dtype \n",
      "---  ------         --------------  ----- \n",
      " 0   Unnamed: 0     89532 non-null  int64 \n",
      " 1   judge_court    89532 non-null  object\n",
      " 2   judge_year     89532 non-null  int64 \n",
      " 3   judge_month    89532 non-null  int64 \n",
      " 4   judge_index    89532 non-null  int64 \n",
      " 5   judge_title    89532 non-null  object\n",
      " 6   judge_NO       89532 non-null  object\n",
      " 7   judge_link     89532 non-null  object\n",
      " 8   judge_content  89532 non-null  object\n",
      " 9   main           89532 non-null  object\n",
      " 10  left           89104 non-null  object\n",
      "dtypes: int64(4), object(7)\n",
      "memory usage: 8.2+ MB\n"
     ]
    }
   ],
   "source": [
    "datarealjudge = data[mask_real]\n",
    "datarealjudge.info()"
   ]
  },
  {
   "cell_type": "code",
   "execution_count": 33,
   "metadata": {},
   "outputs": [
    {
     "data": {
      "text/plain": [
       "100595         主文:朱育萱犯過失傷害罪，處有期徒刑叁月，如易科罰金，以新臺幣壹仟元折算壹日。犯罪事實及\n",
       "63331             主文:黃明峰犯過失傷害罪，處拘役伍拾日，如易科罰金，以新臺幣壹仟元折算壹日。事實及\n",
       "148391    主文:游政昆汽車駕駛人酒醉駕車，因業務上之過失傷害人，處有期徒刑陸月，如易科罰金，以新臺幣壹...\n",
       "169713    主文:林廷諺無駕駛執照駕車，因過失傷害人，處拘役伍拾伍日，如易科罰金，以新臺幣壹仟元折算壹日...\n",
       "84481     主文:周順謙犯過失傷害罪，處有期徒刑參月，如易科罰金，以新臺幣壹仟元折算壹日。犯罪事實一、周...\n",
       "22915               主文:吳聿淇犯傷害罪，處拘役貳拾日，如易科罰金，以新臺幣壹仟元折算壹日。事實及\n",
       "160570                                            主文:林木發無罪。\n",
       "93763             主文:辛雲山犯傷害罪，處拘役貳拾日，如易科罰金，以新臺幣壹仟元折算壹日。犯罪事實及\n",
       "119436    主文:陳奕弦犯無駕駛執照駕車過失傷害罪，處有期徒刑參月，如易科罰金，以新臺幣壹仟元折算壹日。事實及\n",
       "176025           主文:乙○○犯過失傷害罪，處有期徒刑貳月，如易科罰金，以新臺幣壹仟元折算壹日。事實及\n",
       "Name: main, dtype: object"
      ]
     },
     "execution_count": 33,
     "metadata": {},
     "output_type": "execute_result"
    }
   ],
   "source": [
    "datarealjudge['main'].sample(n = 10, random_state = 0)"
   ]
  },
  {
   "cell_type": "code",
   "execution_count": 37,
   "metadata": {},
   "outputs": [],
   "source": [
    "# 犯OOO罪的先抓出來，剩下再挑\n",
    "\n",
    "mask_real_1_opp = ~datarealjudge['main'].str.contains('犯.+罪',regex = True)\n",
    "\n",
    "# 遮掉犯OO罪的\n"
   ]
  },
  {
   "cell_type": "code",
   "execution_count": 49,
   "metadata": {},
   "outputs": [
    {
     "data": {
      "text/plain": [
       "70001     主文:蘇建華傷害人之身體，處拘役貳拾日，如易科罰金，以新臺幣壹仟元折算壹日。又傷害人之身體，...\n",
       "73100           主文:鄭勝耀共同傷害人之身體，處有期徒刑肆月，如易科罰金以新臺幣壹仟元折算壹日。事實及\n",
       "75095     主文:簡煒騏吐氣所含酒精濃度達每公升零點二五毫克以上而駕駛動力交通工具，處有期徒刑參月，如易...\n",
       "101128    主文:吳寧寧傷害人之身體，處有期徒刑貳月，如易科罰金，以新臺幣壹仟元折算壹日。犯罪事實一、吳...\n",
       "144518    主文:葉明祥傷害人之身體，處拘役參拾日，如易科罰金，以新臺幣壹仟元折算壹日。事實一、葉明祥與...\n",
       "85953     主文:王世慶因過失傷害人，處拘役肆拾日，如易科罰金，以新臺幣壹仟元折算壹日。犯罪事實一、王世...\n",
       "72289     主文:NGUYENVANDAI傷害人之身體，處拘役伍拾日，如易科罰金，以新臺幣壹仟元折算壹日...\n",
       "100230         主文:李清玉因過失傷害人，處有期徒刑貳月，如易科罰金，以新臺幣壹仟元折算壹日。犯罪事實及\n",
       "115678    主文:徐一石從事業務之人，因業務上之過失傷害人，處拘役伍拾日，如易科罰金，以新台幣壹仟元折算壹日。\n",
       "99824     主文:黃金助汽車駕駛人，無駕駛執照、酒醉駕車，因過失傷害人，處拘役肆拾日，如易科罰金，以新臺...\n",
       "Name: main, dtype: object"
      ]
     },
     "execution_count": 49,
     "metadata": {},
     "output_type": "execute_result"
    }
   ],
   "source": [
    "datarealjudge[mask_real_1_opp].main.sample(n = 10, random_state = 6)"
   ]
  },
  {
   "cell_type": "code",
   "execution_count": 46,
   "metadata": {},
   "outputs": [],
   "source": [
    "datarealjudge1 = datarealjudge[mask_real_1_opp]\n",
    "\n",
    "# 去掉犯OO罪的DF"
   ]
  },
  {
   "cell_type": "code",
   "execution_count": 48,
   "metadata": {},
   "outputs": [
    {
     "name": "stdout",
     "output_type": "stream",
     "text": [
      "<class 'pandas.core.frame.DataFrame'>\n",
      "Int64Index: 17693 entries, 7 to 192051\n",
      "Data columns (total 11 columns):\n",
      " #   Column         Non-Null Count  Dtype \n",
      "---  ------         --------------  ----- \n",
      " 0   Unnamed: 0     17693 non-null  int64 \n",
      " 1   judge_court    17693 non-null  object\n",
      " 2   judge_year     17693 non-null  int64 \n",
      " 3   judge_month    17693 non-null  int64 \n",
      " 4   judge_index    17693 non-null  int64 \n",
      " 5   judge_title    17693 non-null  object\n",
      " 6   judge_NO       17693 non-null  object\n",
      " 7   judge_link     17693 non-null  object\n",
      " 8   judge_content  17693 non-null  object\n",
      " 9   main           17693 non-null  object\n",
      " 10  left           17691 non-null  object\n",
      "dtypes: int64(4), object(7)\n",
      "memory usage: 1.6+ MB\n"
     ]
    }
   ],
   "source": [
    "datarealjudge1.info()"
   ]
  },
  {
   "cell_type": "code",
   "execution_count": 50,
   "metadata": {},
   "outputs": [],
   "source": [
    "mask_real_2_opp = ~datarealjudge1['main'].str.contains('傷害',regex = True)\n",
    "\n",
    "# 不含傷害的判決遮罩"
   ]
  },
  {
   "cell_type": "code",
   "execution_count": 125,
   "metadata": {},
   "outputs": [],
   "source": [
    "datarealjudge2 = datarealjudge1[mask_real_2_opp]"
   ]
  },
  {
   "cell_type": "code",
   "execution_count": 126,
   "metadata": {},
   "outputs": [
    {
     "name": "stdout",
     "output_type": "stream",
     "text": [
      "<class 'pandas.core.frame.DataFrame'>\n",
      "Int64Index: 2557 entries, 26 to 192035\n",
      "Data columns (total 11 columns):\n",
      " #   Column         Non-Null Count  Dtype \n",
      "---  ------         --------------  ----- \n",
      " 0   Unnamed: 0     2557 non-null   int64 \n",
      " 1   judge_court    2557 non-null   object\n",
      " 2   judge_year     2557 non-null   int64 \n",
      " 3   judge_month    2557 non-null   int64 \n",
      " 4   judge_index    2557 non-null   int64 \n",
      " 5   judge_title    2557 non-null   object\n",
      " 6   judge_NO       2557 non-null   object\n",
      " 7   judge_link     2557 non-null   object\n",
      " 8   judge_content  2557 non-null   object\n",
      " 9   main           2557 non-null   object\n",
      " 10  left           2557 non-null   object\n",
      "dtypes: int64(4), object(7)\n",
      "memory usage: 239.7+ KB\n"
     ]
    }
   ],
   "source": [
    "datarealjudge2.info()"
   ]
  },
  {
   "cell_type": "code",
   "execution_count": 76,
   "metadata": {},
   "outputs": [],
   "source": [
    "findtrue = datarealjudge1[mask_real_2_opp].main.str.contains('重傷', regex = True)"
   ]
  },
  {
   "cell_type": "code",
   "execution_count": 121,
   "metadata": {},
   "outputs": [
    {
     "data": {
      "text/plain": [
       "(array([ 199,  212,  213,  228,  270,  344,  441,  500,  982, 1112, 1116,\n",
       "        1130, 1157, 1214, 1536, 1645, 2232, 2361, 2471], dtype=int64),)"
      ]
     },
     "execution_count": 121,
     "metadata": {},
     "output_type": "execute_result"
    }
   ],
   "source": [
    "np.where( findtrue ==1 )\n",
    "\n",
    "# 看一下包含重傷的有多少個"
   ]
  },
  {
   "cell_type": "code",
   "execution_count": 127,
   "metadata": {},
   "outputs": [],
   "source": [
    "mask_real_3_opp = ~datarealjudge2['main'].str.contains('重傷', regex = True)\n",
    "\n",
    "# 不含傷害、不含重傷的遮罩"
   ]
  },
  {
   "cell_type": "code",
   "execution_count": 128,
   "metadata": {},
   "outputs": [],
   "source": [
    "datarealjudge3 = datarealjudge2[mask_real_3_opp]"
   ]
  },
  {
   "cell_type": "code",
   "execution_count": 130,
   "metadata": {},
   "outputs": [
    {
     "name": "stdout",
     "output_type": "stream",
     "text": [
      "<class 'pandas.core.frame.DataFrame'>\n",
      "Int64Index: 2538 entries, 26 to 192035\n",
      "Data columns (total 11 columns):\n",
      " #   Column         Non-Null Count  Dtype \n",
      "---  ------         --------------  ----- \n",
      " 0   Unnamed: 0     2538 non-null   int64 \n",
      " 1   judge_court    2538 non-null   object\n",
      " 2   judge_year     2538 non-null   int64 \n",
      " 3   judge_month    2538 non-null   int64 \n",
      " 4   judge_index    2538 non-null   int64 \n",
      " 5   judge_title    2538 non-null   object\n",
      " 6   judge_NO       2538 non-null   object\n",
      " 7   judge_link     2538 non-null   object\n",
      " 8   judge_content  2538 non-null   object\n",
      " 9   main           2538 non-null   object\n",
      " 10  left           2538 non-null   object\n",
      "dtypes: int64(4), object(7)\n",
      "memory usage: 237.9+ KB\n"
     ]
    }
   ],
   "source": [
    "datarealjudge3.info()"
   ]
  },
  {
   "cell_type": "code",
   "execution_count": 141,
   "metadata": {},
   "outputs": [
    {
     "data": {
      "text/plain": [
       "139974                                            主文:潘松彬無罪。\n",
       "51517                                             主文:張竹安無罪。\n",
       "126172                                            主文:李宗賢無罪。\n",
       "188871                                            主文:羅春月無罪。\n",
       "187440                                            主文:邱聰惠無罪。\n",
       "27489                                             主文:吳政樺無罪。\n",
       "24312                                       主文:原判決撤銷。沈金江無罪。\n",
       "19336                                              主文:張謙無罪。\n",
       "172040    主文:姚佩琪汽車駕駛人無駕駛執照駕車因過失致人受傷，處拘役伍拾日，如易科罰金，以新臺幣壹仟元...\n",
       "126027                                            主文:林彬煌無罪。\n",
       "Name: main, dtype: object"
      ]
     },
     "execution_count": 141,
     "metadata": {},
     "output_type": "execute_result"
    }
   ],
   "source": [
    "datarealjudge3.main.sample(n = 10 , random_state = 3)"
   ]
  },
  {
   "cell_type": "code",
   "execution_count": 142,
   "metadata": {},
   "outputs": [],
   "source": [
    "mask_real_4_opp = ~datarealjudge3['main'].str.contains('受傷', regex = True)\n",
    "\n",
    "# 不含受傷的"
   ]
  },
  {
   "cell_type": "code",
   "execution_count": 143,
   "metadata": {},
   "outputs": [
    {
     "name": "stdout",
     "output_type": "stream",
     "text": [
      "<class 'pandas.core.frame.DataFrame'>\n",
      "Int64Index: 2358 entries, 26 to 192035\n",
      "Data columns (total 11 columns):\n",
      " #   Column         Non-Null Count  Dtype \n",
      "---  ------         --------------  ----- \n",
      " 0   Unnamed: 0     2358 non-null   int64 \n",
      " 1   judge_court    2358 non-null   object\n",
      " 2   judge_year     2358 non-null   int64 \n",
      " 3   judge_month    2358 non-null   int64 \n",
      " 4   judge_index    2358 non-null   int64 \n",
      " 5   judge_title    2358 non-null   object\n",
      " 6   judge_NO       2358 non-null   object\n",
      " 7   judge_link     2358 non-null   object\n",
      " 8   judge_content  2358 non-null   object\n",
      " 9   main           2358 non-null   object\n",
      " 10  left           2358 non-null   object\n",
      "dtypes: int64(4), object(7)\n",
      "memory usage: 221.1+ KB\n"
     ]
    }
   ],
   "source": [
    "datarealjudge4 = datarealjudge3[mask_real_4_opp]\n",
    "datarealjudge4.info()\n"
   ]
  },
  {
   "cell_type": "code",
   "execution_count": 148,
   "metadata": {},
   "outputs": [
    {
     "data": {
      "text/plain": [
       "129348          主文:林振強無罪。\n",
       "35950           主文:林蔡瓜無罪。\n",
       "105272    主文:原判決撤銷。顏吉忠無罪。\n",
       "54477           主文:莊秉諺無罪。\n",
       "164678          主文:霍杏賢無罪。\n",
       "4235            主文:陳佑婷無罪。\n",
       "28590           主文:王洪源無罪。\n",
       "178072          主文:鄭智銘無罪。\n",
       "175921          主文:涂麗梅無罪。\n",
       "72879           主文:林中福無罪。\n",
       "Name: main, dtype: object"
      ]
     },
     "execution_count": 148,
     "metadata": {},
     "output_type": "execute_result"
    }
   ],
   "source": [
    "datarealjudge4.main.sample(n = 10 , random_state = 4)\n",
    "\n",
    "# 剩下這個DF就是無罪和其他，可能有共同的"
   ]
  }
 ],
 "metadata": {
  "kernelspec": {
   "display_name": "Python 3.10.7 64-bit",
   "language": "python",
   "name": "python3"
  },
  "language_info": {
   "codemirror_mode": {
    "name": "ipython",
    "version": 3
   },
   "file_extension": ".py",
   "mimetype": "text/x-python",
   "name": "python",
   "nbconvert_exporter": "python",
   "pygments_lexer": "ipython3",
   "version": "3.10.7"
  },
  "orig_nbformat": 4,
  "vscode": {
   "interpreter": {
    "hash": "26de051ba29f2982a8de78e945f0abaf191376122a1563185a90213a26c5da77"
   }
  }
 },
 "nbformat": 4,
 "nbformat_minor": 2
}
